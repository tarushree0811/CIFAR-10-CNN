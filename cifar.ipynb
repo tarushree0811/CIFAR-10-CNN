{
  "cells": [
    {
      "cell_type": "code",
      "source": [
        "import tensorflow as tf\n",
        "import matplotlib.pyplot as plt\n",
        "from tensorflow.keras import layers,datasets\n",
        "import numpy as np"
      ],
      "metadata": {
        "id": "Z_1t5yXuKwCc"
      },
      "execution_count": null,
      "outputs": []
    },
    {
      "cell_type": "code",
      "source": [
        "(X_train,y_train),(X_test,y_test) = datasets.cifar10.load_data()\n",
        "X_train.shape"
      ],
      "metadata": {
        "colab": {
          "base_uri": "https://localhost:8080/"
        },
        "id": "iO6vGe_KLJxM",
        "outputId": "d777828c-15ea-4ea2-dfb3-df7f96ae48e9"
      },
      "execution_count": null,
      "outputs": [
        {
          "output_type": "execute_result",
          "data": {
            "text/plain": [
              "(50000, 32, 32, 3)"
            ]
          },
          "metadata": {},
          "execution_count": 71
        }
      ]
    },
    {
      "cell_type": "code",
      "source": [
        "X_test.shape"
      ],
      "metadata": {
        "colab": {
          "base_uri": "https://localhost:8080/"
        },
        "id": "MoBY-UUULik3",
        "outputId": "91af584f-b2e6-49ee-ca9c-15a8b0785291"
      },
      "execution_count": null,
      "outputs": [
        {
          "output_type": "execute_result",
          "data": {
            "text/plain": [
              "(10000, 32, 32, 3)"
            ]
          },
          "metadata": {},
          "execution_count": 72
        }
      ]
    },
    {
      "cell_type": "code",
      "source": [
        "y_train[:5]"
      ],
      "metadata": {
        "colab": {
          "base_uri": "https://localhost:8080/"
        },
        "id": "vA8aW5ONNvLK",
        "outputId": "ef518888-9a37-4a41-ba60-a78db896e560"
      },
      "execution_count": null,
      "outputs": [
        {
          "output_type": "execute_result",
          "data": {
            "text/plain": [
              "array([[6],\n",
              "       [9],\n",
              "       [9],\n",
              "       [4],\n",
              "       [1]], dtype=uint8)"
            ]
          },
          "metadata": {},
          "execution_count": 73
        }
      ]
    },
    {
      "cell_type": "code",
      "source": [
        "y_train = y_train.reshape(-1,)\n",
        "y_train[:5]"
      ],
      "metadata": {
        "colab": {
          "base_uri": "https://localhost:8080/"
        },
        "id": "_WozN0dbN5Mf",
        "outputId": "ad8d201e-4b6a-49a0-c8c2-e71dad7107f1"
      },
      "execution_count": null,
      "outputs": [
        {
          "output_type": "execute_result",
          "data": {
            "text/plain": [
              "array([6, 9, 9, 4, 1], dtype=uint8)"
            ]
          },
          "metadata": {},
          "execution_count": 74
        }
      ]
    },
    {
      "cell_type": "code",
      "source": [
        "classes = ['airplane','automobile','bird','cat','deer','dog','frog','horse','ship','truck']"
      ],
      "metadata": {
        "id": "DXaU0zluMzp9"
      },
      "execution_count": null,
      "outputs": []
    },
    {
      "cell_type": "code",
      "source": [
        "classes[8]"
      ],
      "metadata": {
        "colab": {
          "base_uri": "https://localhost:8080/",
          "height": 35
        },
        "id": "9tIjzLoZOSyl",
        "outputId": "f8e17033-51b2-4f15-a72c-fd05dc4960c6"
      },
      "execution_count": null,
      "outputs": [
        {
          "output_type": "execute_result",
          "data": {
            "text/plain": [
              "'ship'"
            ],
            "application/vnd.google.colaboratory.intrinsic+json": {
              "type": "string"
            }
          },
          "metadata": {},
          "execution_count": 76
        }
      ]
    },
    {
      "cell_type": "code",
      "source": [
        "def plot_sample(X,y,index):\n",
        "    plt.figure(figsize = (15,2))\n",
        "    plt.imshow(X[index])\n",
        "    plt.xlabel(classes[y[index]])"
      ],
      "metadata": {
        "id": "GxebAhINLrIc"
      },
      "execution_count": null,
      "outputs": []
    },
    {
      "cell_type": "code",
      "source": [
        "plot_sample(X_train , y_train , 5)"
      ],
      "metadata": {
        "colab": {
          "base_uri": "https://localhost:8080/",
          "height": 237
        },
        "id": "X8_ZntJbMKMY",
        "outputId": "eca60b2a-31ac-4af6-f732-05d6699a2fdc"
      },
      "execution_count": null,
      "outputs": [
        {
          "output_type": "display_data",
          "data": {
            "text/plain": [
              "<Figure size 1500x200 with 1 Axes>"
            ],
            "image/png": "[encoded data removed]"
          },
          "metadata": {}
        }
      ]
    },
    {
      "cell_type": "code",
      "source": [
        "#normalizing the pixel value from 0 to 1 range"
      ],
      "metadata": {
        "id": "xtc2paQ-PL3e"
      },
      "execution_count": null,
      "outputs": []
    },
    {
      "cell_type": "code",
      "source": [
        "X_train[0]/255\n",
        "X_test[0]/255"
      ],
      "metadata": {
        "colab": {
          "base_uri": "https://localhost:8080/"
        },
        "id": "-Wsr9fk3QBb9",
        "outputId": "fe9bc034-383b-408d-c330-ee190aa02602"
      },
      "execution_count": null,
      "outputs": [
        {
          "output_type": "execute_result",
          "data": {
            "text/plain": [
              "array([[[0.61960784, 0.43921569, 0.19215686],\n",
              "        [0.62352941, 0.43529412, 0.18431373],\n",
              "        [0.64705882, 0.45490196, 0.2       ],\n",
              "        ...,\n",
              "        [0.5372549 , 0.37254902, 0.14117647],\n",
              "        [0.49411765, 0.35686275, 0.14117647],\n",
              "        [0.45490196, 0.33333333, 0.12941176]],\n",
              "\n",
              "       [[0.59607843, 0.43921569, 0.2       ],\n",
              "        [0.59215686, 0.43137255, 0.15686275],\n",
              "        [0.62352941, 0.44705882, 0.17647059],\n",
              "        ...,\n",
              "        [0.53333333, 0.37254902, 0.12156863],\n",
              "        [0.49019608, 0.35686275, 0.1254902 ],\n",
              "        [0.46666667, 0.34509804, 0.13333333]],\n",
              "\n",
              "       [[0.59215686, 0.43137255, 0.18431373],\n",
              "        [0.59215686, 0.42745098, 0.12941176],\n",
              "        [0.61960784, 0.43529412, 0.14117647],\n",
              "        ...,\n",
              "        [0.54509804, 0.38431373, 0.13333333],\n",
              "        [0.50980392, 0.37254902, 0.13333333],\n",
              "        [0.47058824, 0.34901961, 0.12941176]],\n",
              "\n",
              "       ...,\n",
              "\n",
              "       [[0.26666667, 0.48627451, 0.69411765],\n",
              "        [0.16470588, 0.39215686, 0.58039216],\n",
              "        [0.12156863, 0.34509804, 0.5372549 ],\n",
              "        ...,\n",
              "        [0.14901961, 0.38039216, 0.57254902],\n",
              "        [0.05098039, 0.25098039, 0.42352941],\n",
              "        [0.15686275, 0.33333333, 0.49803922]],\n",
              "\n",
              "       [[0.23921569, 0.45490196, 0.65882353],\n",
              "        [0.19215686, 0.4       , 0.58039216],\n",
              "        [0.1372549 , 0.33333333, 0.51764706],\n",
              "        ...,\n",
              "        [0.10196078, 0.32156863, 0.50980392],\n",
              "        [0.11372549, 0.32156863, 0.49411765],\n",
              "        [0.07843137, 0.25098039, 0.41960784]],\n",
              "\n",
              "       [[0.21176471, 0.41960784, 0.62745098],\n",
              "        [0.21960784, 0.41176471, 0.58431373],\n",
              "        [0.17647059, 0.34901961, 0.51764706],\n",
              "        ...,\n",
              "        [0.09411765, 0.30196078, 0.48627451],\n",
              "        [0.13333333, 0.32941176, 0.50588235],\n",
              "        [0.08235294, 0.2627451 , 0.43137255]]])"
            ]
          },
          "metadata": {},
          "execution_count": 80
        }
      ]
    },
    {
      "cell_type": "code",
      "source": [
        "#building the ANN first\n"
      ],
      "metadata": {
        "id": "E9glX5aqQIwA"
      },
      "execution_count": null,
      "outputs": []
    },
    {
      "cell_type": "code",
      "source": [
        "ann_models = models.Sequential([\n",
        "    layers.Flatten(input_shape = (32,32,3)),\n",
        "    layers.Dense(units = 1000 , activation = 'relu'),\n",
        "    layers.Dense(units = 1000 , activation = 'relu'),\n",
        "    layers.Dense(units = 10 , activation = 'sigmoid')\n",
        "\n",
        "\n",
        "])"
      ],
      "metadata": {
        "id": "66RsP_pKQY66"
      },
      "execution_count": null,
      "outputs": []
    },
    {
      "cell_type": "code",
      "source": [
        "ann_models.compile(optimizer = 'adam' , loss = 'sparse_categorical_crossentropy',metrics =['accuracy'])"
      ],
      "metadata": {
        "id": "mtrNwsZuRtZg"
      },
      "execution_count": null,
      "outputs": []
    },
    {
      "cell_type": "code",
      "source": [
        "ann_models.fit(X_train,y_train,epochs =10)"
      ],
      "metadata": {
        "colab": {
          "base_uri": "https://localhost:8080/"
        },
        "id": "eV4GRe7USQPy",
        "outputId": "0916e546-f7d1-4ef4-b699-b8deb429cfa5"
      },
      "execution_count": null,
      "outputs": [
        {
          "output_type": "stream",
          "name": "stdout",
          "text": [
            "Epoch 1/10\n",
            "1563/1563 [==============================] - 7s 4ms/step - loss: 18.1481 - accuracy: 0.1225\n",
            "Epoch 2/10\n",
            "1563/1563 [==============================] - 6s 4ms/step - loss: 2.3025 - accuracy: 0.1016\n",
            "Epoch 3/10\n",
            "1563/1563 [==============================] - 5s 3ms/step - loss: 2.3026 - accuracy: 0.0982\n",
            "Epoch 4/10\n",
            "1563/1563 [==============================] - 6s 4ms/step - loss: 2.3029 - accuracy: 0.0969\n",
            "Epoch 5/10\n",
            "1563/1563 [==============================] - 5s 3ms/step - loss: 2.3028 - accuracy: 0.0955\n",
            "Epoch 6/10\n",
            "1563/1563 [==============================] - 6s 4ms/step - loss: 2.3028 - accuracy: 0.0974\n",
            "Epoch 7/10\n",
            "1563/1563 [==============================] - 5s 3ms/step - loss: 2.3032 - accuracy: 0.0951\n",
            "Epoch 8/10\n",
            "1563/1563 [==============================] - 7s 4ms/step - loss: 2.3028 - accuracy: 0.0997\n",
            "Epoch 9/10\n",
            "1563/1563 [==============================] - 5s 3ms/step - loss: 2.3027 - accuracy: 0.0982\n",
            "Epoch 10/10\n",
            "1563/1563 [==============================] - 6s 4ms/step - loss: 2.3027 - accuracy: 0.0976\n"
          ]
        },
        {
          "output_type": "execute_result",
          "data": {
            "text/plain": [
              "<keras.callbacks.History at 0x7f7b3005bb50>"
            ]
          },
          "metadata": {},
          "execution_count": 84
        }
      ]
    },
    {
      "cell_type": "code",
      "source": [
        "ann_models.compile(optimizer = 'adam' , loss = 'sparse_categorical_crossentropy',metrics =['accuracy'])\n"
      ],
      "metadata": {
        "id": "3s8X0_BDWMgW"
      },
      "execution_count": null,
      "outputs": []
    },
    {
      "cell_type": "code",
      "source": [
        "ann_models.fit(X_test,y_test,epochs = 10)"
      ],
      "metadata": {
        "colab": {
          "base_uri": "https://localhost:8080/"
        },
        "id": "921yT5GgTJ_v",
        "outputId": "6037783b-13e8-4804-bfb7-19b0f8abcb48"
      },
      "execution_count": null,
      "outputs": [
        {
          "output_type": "stream",
          "name": "stdout",
          "text": [
            "Epoch 1/10\n",
            "313/313 [==============================] - 2s 4ms/step - loss: 2.3048 - accuracy: 0.0967\n",
            "Epoch 2/10\n",
            "313/313 [==============================] - 1s 3ms/step - loss: 2.3029 - accuracy: 0.0995\n",
            "Epoch 3/10\n",
            "313/313 [==============================] - 1s 3ms/step - loss: 2.3029 - accuracy: 0.0971\n",
            "Epoch 4/10\n",
            "313/313 [==============================] - 1s 3ms/step - loss: 2.3029 - accuracy: 0.0988\n",
            "Epoch 5/10\n",
            "313/313 [==============================] - 1s 3ms/step - loss: 2.3028 - accuracy: 0.0967\n",
            "Epoch 6/10\n",
            "313/313 [==============================] - 1s 3ms/step - loss: 2.3029 - accuracy: 0.0958\n",
            "Epoch 7/10\n",
            "313/313 [==============================] - 1s 4ms/step - loss: 2.3028 - accuracy: 0.0954\n",
            "Epoch 8/10\n",
            "313/313 [==============================] - 1s 5ms/step - loss: 2.3028 - accuracy: 0.0959\n",
            "Epoch 9/10\n",
            "313/313 [==============================] - 1s 4ms/step - loss: 2.3028 - accuracy: 0.0930\n",
            "Epoch 10/10\n",
            "313/313 [==============================] - 1s 4ms/step - loss: 2.3028 - accuracy: 0.0925\n"
          ]
        },
        {
          "output_type": "execute_result",
          "data": {
            "text/plain": [
              "<keras.callbacks.History at 0x7f7b2ffd8a90>"
            ]
          },
          "metadata": {},
          "execution_count": 86
        }
      ]
    },
    {
      "cell_type": "code",
      "source": [
        "#ANN is doing really very bad on this dataset..so we will do cnn"
      ],
      "metadata": {
        "id": "86kGvJtDT4vZ"
      },
      "execution_count": null,
      "outputs": []
    },
    {
      "cell_type": "code",
      "source": [
        "\n",
        "cnn_models = models.Sequential([\n",
        "\n",
        "    #cnn\n",
        "    layers.Conv2D(filters = 32 ,kernel_size = (3,3),activation = 'relu',input_shape = (32,32,3)),\n",
        "    layers.MaxPooling2D((2,2)),\n",
        "\n",
        "    layers.Conv2D(filters = 32 ,kernel_size = (3,3),activation = 'relu',input_shape = (32,32,3)),\n",
        "    layers.MaxPooling2D((2,2)),\n",
        "\n",
        "    #dense\n",
        "    layers.Flatten(),\n",
        "    layers.Dense(units = 64 , activation = 'relu'),\n",
        "    layers.Dense(units = 10 , activation = 'softmax')\n",
        "\n",
        "\n",
        "])"
      ],
      "metadata": {
        "id": "9xukmvPZXz49"
      },
      "execution_count": null,
      "outputs": []
    },
    {
      "cell_type": "code",
      "source": [
        "cnn_models.compile(optimizer = 'adam',loss = 'sparse_categorical_crossentropy',metrics =['accuracy'])"
      ],
      "metadata": {
        "id": "fDe2kKSSaKqw"
      },
      "execution_count": null,
      "outputs": []
    },
    {
      "cell_type": "code",
      "source": [
        "cnn_models.fit(X_train,y_train,epochs =20)"
      ],
      "metadata": {
        "colab": {
          "base_uri": "https://localhost:8080/"
        },
        "id": "vsdY14k5axha",
        "outputId": "7f53984e-ed8e-41b0-bf26-83c99025ff0a"
      },
      "execution_count": null,
      "outputs": [
        {
          "output_type": "stream",
          "name": "stdout",
          "text": [
            "Epoch 1/20\n",
            "1563/1563 [==============================] - 8s 4ms/step - loss: 1.8353 - accuracy: 0.3859\n",
            "Epoch 2/20\n",
            "1563/1563 [==============================] - 7s 4ms/step - loss: 1.3215 - accuracy: 0.5313\n",
            "Epoch 3/20\n",
            "1563/1563 [==============================] - 7s 4ms/step - loss: 1.1738 - accuracy: 0.5897\n",
            "Epoch 4/20\n",
            "1563/1563 [==============================] - 7s 4ms/step - loss: 1.0862 - accuracy: 0.6228\n",
            "Epoch 5/20\n",
            "1563/1563 [==============================] - 7s 4ms/step - loss: 1.0211 - accuracy: 0.6447\n",
            "Epoch 6/20\n",
            "1563/1563 [==============================] - 6s 4ms/step - loss: 0.9661 - accuracy: 0.6654\n",
            "Epoch 7/20\n",
            "1563/1563 [==============================] - 7s 4ms/step - loss: 0.9203 - accuracy: 0.6796\n",
            "Epoch 8/20\n",
            "1563/1563 [==============================] - 6s 4ms/step - loss: 0.8871 - accuracy: 0.6931\n",
            "Epoch 9/20\n",
            "1563/1563 [==============================] - 7s 4ms/step - loss: 0.8640 - accuracy: 0.7020\n",
            "Epoch 10/20\n",
            "1563/1563 [==============================] - 6s 4ms/step - loss: 0.8339 - accuracy: 0.7122\n",
            "Epoch 11/20\n",
            "1563/1563 [==============================] - 7s 4ms/step - loss: 0.8081 - accuracy: 0.7213\n",
            "Epoch 12/20\n",
            "1563/1563 [==============================] - 6s 4ms/step - loss: 0.7912 - accuracy: 0.7271\n",
            "Epoch 13/20\n",
            "1563/1563 [==============================] - 7s 4ms/step - loss: 0.7764 - accuracy: 0.7327\n",
            "Epoch 14/20\n",
            "1563/1563 [==============================] - 6s 4ms/step - loss: 0.7515 - accuracy: 0.7398\n",
            "Epoch 15/20\n",
            "1563/1563 [==============================] - 7s 4ms/step - loss: 0.7362 - accuracy: 0.7476\n",
            "Epoch 16/20\n",
            "1563/1563 [==============================] - 6s 4ms/step - loss: 0.7229 - accuracy: 0.7513\n",
            "Epoch 17/20\n",
            "1563/1563 [==============================] - 7s 4ms/step - loss: 0.7143 - accuracy: 0.7542\n",
            "Epoch 18/20\n",
            "1563/1563 [==============================] - 6s 4ms/step - loss: 0.7003 - accuracy: 0.7583\n",
            "Epoch 19/20\n",
            "1563/1563 [==============================] - 7s 5ms/step - loss: 0.6934 - accuracy: 0.7616\n",
            "Epoch 20/20\n",
            "1563/1563 [==============================] - 6s 4ms/step - loss: 0.6753 - accuracy: 0.7671\n"
          ]
        },
        {
          "output_type": "execute_result",
          "data": {
            "text/plain": [
              "<keras.callbacks.History at 0x7f7b3005b490>"
            ]
          },
          "metadata": {},
          "execution_count": 90
        }
      ]
    },
    {
      "cell_type": "code",
      "source": [
        "cnn_models.evaluate(X_test,y_test)"
      ],
      "metadata": {
        "colab": {
          "base_uri": "https://localhost:8080/"
        },
        "id": "4qFSFnUEa9kI",
        "outputId": "7bc9b43e-7044-42e4-dad2-7ca7b10aecfd"
      },
      "execution_count": null,
      "outputs": [
        {
          "output_type": "stream",
          "name": "stdout",
          "text": [
            "313/313 [==============================] - 1s 3ms/step - loss: 1.1961 - accuracy: 0.6503\n"
          ]
        },
        {
          "output_type": "execute_result",
          "data": {
            "text/plain": [
              "[1.196058750152588, 0.6503000259399414]"
            ]
          },
          "metadata": {},
          "execution_count": 91
        }
      ]
    },
    {
      "cell_type": "code",
      "source": [
        "y_test = y_test.reshape(-1,)\n",
        "y_test[:5]\n"
      ],
      "metadata": {
        "colab": {
          "base_uri": "https://localhost:8080/"
        },
        "id": "8X-UYSawdSbG",
        "outputId": "1cf3f266-b3fe-4fc4-9cbb-705c5a6761eb"
      },
      "execution_count": null,
      "outputs": [
        {
          "output_type": "execute_result",
          "data": {
            "text/plain": [
              "array([3, 8, 8, 0, 6], dtype=uint8)"
            ]
          },
          "metadata": {},
          "execution_count": 92
        }
      ]
    },
    {
      "cell_type": "code",
      "source": [],
      "metadata": {
        "id": "Kbs7w4aVc2Fm"
      },
      "execution_count": null,
      "outputs": []
    },
    {
      "cell_type": "code",
      "source": [
        "y_pred = cnn_models.predict(X_test)\n",
        "y_pred[:5]"
      ],
      "metadata": {
        "colab": {
          "base_uri": "https://localhost:8080/"
        },
        "id": "sQc_78DhdOPS",
        "outputId": "8df0b103-6aad-4c74-ede3-47097925219c"
      },
      "execution_count": null,
      "outputs": [
        {
          "output_type": "stream",
          "name": "stdout",
          "text": [
            "313/313 [==============================] - 1s 3ms/step\n"
          ]
        },
        {
          "output_type": "execute_result",
          "data": {
            "text/plain": [
              "array([[2.6984699e-03, 6.4481879e-05, 5.0770589e-03, 8.6498785e-01,\n",
              "        1.9781911e-03, 9.1677919e-02, 1.9706111e-02, 3.0347195e-03,\n",
              "        1.0418143e-02, 3.5700947e-04],\n",
              "       [1.5079656e-02, 1.2262391e-01, 1.1224066e-06, 4.2415186e-07,\n",
              "        2.9372979e-10, 1.3645622e-09, 1.6038489e-07, 8.2507396e-09,\n",
              "        8.6024356e-01, 2.0511663e-03],\n",
              "       [3.8253501e-02, 6.9826305e-02, 1.4411287e-02, 2.2288186e-02,\n",
              "        8.2510393e-03, 3.0094706e-03, 1.1779526e-02, 3.1767797e-03,\n",
              "        6.2491333e-01, 2.0409058e-01],\n",
              "       [4.7632521e-01, 8.5923230e-06, 1.1013453e-02, 1.0000271e-03,\n",
              "        3.4714451e-03, 4.1995256e-04, 4.6733985e-04, 1.1909588e-04,\n",
              "        5.0702620e-01, 1.4875943e-04],\n",
              "       [1.7479691e-05, 7.1844543e-06, 2.1351869e-03, 3.6379960e-03,\n",
              "        5.3263525e-04, 7.8327674e-04, 9.9285853e-01, 1.1699316e-05,\n",
              "        1.1876495e-05, 4.0494383e-06]], dtype=float32)"
            ]
          },
          "metadata": {},
          "execution_count": 93
        }
      ]
    },
    {
      "cell_type": "code",
      "source": [
        "#argmax funvctn will help to find the max among these ten columnms in each row"
      ],
      "metadata": {
        "id": "UEpsyLcserWx"
      },
      "execution_count": null,
      "outputs": []
    },
    {
      "cell_type": "code",
      "source": [
        "y_classes = [np.argmax(element) for element in y_pred]\n",
        "y_classes[:5]\n"
      ],
      "metadata": {
        "colab": {
          "base_uri": "https://localhost:8080/"
        },
        "id": "5qvyRLUBe4ns",
        "outputId": "562bd72f-0ad0-4f83-e764-8b3245646cb8"
      },
      "execution_count": null,
      "outputs": [
        {
          "output_type": "execute_result",
          "data": {
            "text/plain": [
              "[3, 8, 8, 8, 6]"
            ]
          },
          "metadata": {},
          "execution_count": 95
        }
      ]
    },
    {
      "cell_type": "code",
      "source": [
        "y_test[:5]"
      ],
      "metadata": {
        "colab": {
          "base_uri": "https://localhost:8080/"
        },
        "id": "P9INGgosfBGw",
        "outputId": "29784878-066f-4540-cb0d-6ac4c46226d8"
      },
      "execution_count": null,
      "outputs": [
        {
          "output_type": "execute_result",
          "data": {
            "text/plain": [
              "array([3, 8, 8, 0, 6], dtype=uint8)"
            ]
          },
          "metadata": {},
          "execution_count": 96
        }
      ]
    },
    {
      "cell_type": "code",
      "source": [
        "plot_sample(X_test,y_test,0)\n"
      ],
      "metadata": {
        "colab": {
          "base_uri": "https://localhost:8080/",
          "height": 237
        },
        "id": "f7NWGf_gf5nl",
        "outputId": "40137073-6195-4880-f785-268f759d3ed9"
      },
      "execution_count": null,
      "outputs": [
        {
          "output_type": "display_data",
          "data": {
            "text/plain": [
              "<Figure size 1500x200 with 1 Axes>"
            ],
            "image/png": "[encoded data removed]"
          },
          "metadata": {}
        }
      ]
    },
    {
      "cell_type": "code",
      "source": [
        "classes[y_classes[0]]"
      ],
      "metadata": {
        "colab": {
          "base_uri": "https://localhost:8080/",
          "height": 35
        },
        "id": "1QJfTC11gu55",
        "outputId": "3eeed036-f04d-4cb7-aca5-6ea6869f0570"
      },
      "execution_count": null,
      "outputs": [
        {
          "output_type": "execute_result",
          "data": {
            "text/plain": [
              "'cat'"
            ],
            "application/vnd.google.colaboratory.intrinsic+json": {
              "type": "string"
            }
          },
          "metadata": {},
          "execution_count": 98
        }
      ]
    },
    {
      "cell_type": "code",
      "source": [
        "from sklearn.metrics import confusion_matrix,classification_report\n",
        "import numpy as np\n",
        "y_pred = ann_models.predict(X_test)\n",
        "y_pred_classes = [np.argmax(element) for element in y_pred]"
      ],
      "metadata": {
        "colab": {
          "base_uri": "https://localhost:8080/"
        },
        "id": "M7l1sLwsjGGt",
        "outputId": "52cbe73b-f17e-435b-ae48-f8bd3a80fdc8"
      },
      "execution_count": null,
      "outputs": [
        {
          "output_type": "stream",
          "name": "stdout",
          "text": [
            "313/313 [==============================] - 1s 2ms/step\n"
          ]
        }
      ]
    },
    {
      "cell_type": "markdown",
      "source": [
        "print(\"Classification report \\n :\",classification_report(y_test,y_pred_classes))"
      ],
      "metadata": {
        "id": "2-8olrggjocm"
      }
    },
    {
      "cell_type": "code",
      "source": [
        "print(\"Classification Report :\", classification_report(y_test,y_classes))"
      ],
      "metadata": {
        "colab": {
          "base_uri": "https://localhost:8080/"
        },
        "id": "Evnu-4mag1wl",
        "outputId": "6b75ebeb-be8e-4e38-c3a3-bf5b01f3ab4d"
      },
      "execution_count": null,
      "outputs": [
        {
          "output_type": "stream",
          "name": "stdout",
          "text": [
            "Classification Report :               precision    recall  f1-score   support\n",
            "\n",
            "           0       0.74      0.60      0.66      1000\n",
            "           1       0.77      0.82      0.80      1000\n",
            "           2       0.59      0.48      0.53      1000\n",
            "           3       0.41      0.61      0.49      1000\n",
            "           4       0.62      0.53      0.57      1000\n",
            "           5       0.65      0.46      0.54      1000\n",
            "           6       0.59      0.83      0.69      1000\n",
            "           7       0.76      0.66      0.71      1000\n",
            "           8       0.72      0.83      0.77      1000\n",
            "           9       0.81      0.69      0.74      1000\n",
            "\n",
            "    accuracy                           0.65     10000\n",
            "   macro avg       0.67      0.65      0.65     10000\n",
            "weighted avg       0.67      0.65      0.65     10000\n",
            "\n"
          ]
        }
      ]
    },
    {
      "cell_type": "code",
      "source": [],
      "metadata": {
        "id": "QMfY22zSkMQ8"
      },
      "execution_count": null,
      "outputs": []
    }
  ],
  "metadata": {
    "accelerator": "GPU",
    "colab": {
      "provenance": []
    },
    "gpuClass": "standard",
    "kernelspec": {
      "display_name": "Python 3",
      "name": "python3"
    },
    "language_info": {
      "name": "python"
    }
  },
  "nbformat": 4,
  "nbformat_minor": 0
}